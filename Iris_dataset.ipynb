{
 "cells": [
  {
   "cell_type": "code",
   "execution_count": 45,
   "metadata": {},
   "outputs": [
    {
     "name": "stdout",
     "output_type": "stream",
     "text": [
      "['sepal length (cm)', 'sepal width (cm)', 'petal length (cm)', 'petal width (cm)']\n",
      "['setosa' 'versicolor' 'virginica']\n",
      "[5.1 3.5 1.4 0.2]\n",
      "2\n",
      "150\n",
      "<class 'numpy.ndarray'>\n",
      "150\n",
      "3\n",
      "Example 0: labels 0, features [5.1 3.5 1.4 0.2]\n",
      "Example 1: labels 1, features [7.  3.2 4.7 1.4]\n",
      "Example 2: labels 2, features [6.3 3.3 6.  2.5]\n"
     ]
    },
    {
     "data": {
      "text/plain": [
       "array([0, 1, 2])"
      ]
     },
     "execution_count": 45,
     "metadata": {},
     "output_type": "execute_result"
    }
   ],
   "source": [
    "import numpy as np\n",
    "from sklearn import tree\n",
    "from sklearn.datasets import load_iris\n",
    "iris = load_iris()\n",
    "print(iris.feature_names)\n",
    "print(iris.target_names)\n",
    "print(iris.data[0])\n",
    "print(iris.target[149])\n",
    "print(len(iris.data))\n",
    "print(type(iris.data))\n",
    "print(len(iris.target))\n",
    "#for i in range(len(iris.target)):\n",
    " #   print (\"Example %d: labels %s, features %s\" %(i, iris.target[i], iris.data[i]))\n",
    "test_idx=[0,50,100]\n",
    "\n",
    "train_data=np.delete(iris.data,test_idx,axis=0)\n",
    "train_target=np.delete(iris.target,test_idx)\n",
    "\n",
    "print(len(test_target))\n",
    "test_data=iris.data[test_idx]\n",
    "test_target=iris.target[test_idx]\n",
    "for i in range(len(test_target)):\n",
    "    print (\"Example %d: labels %s, features %s\" %(i, test_target[i], test_data[i]))\n",
    "    \n",
    "clf=tree.DecisionTreeClassifier()\n",
    "clf.fit(train_data, train_target)\n",
    "\n",
    "clf.predict(test_data)\n"
   ]
  },
  {
   "cell_type": "code",
   "execution_count": 64,
   "metadata": {},
   "outputs": [],
   "source": [
    "\n",
    "\n",
    "from sklearn.externals.six import StringIO\n",
    "from sklearn.tree import export_graphviz\n",
    "import pydot,os,io\n",
    "dottt = StringIO()\n",
    "tree.export_graphviz(clf,out_file=dottt,feature_names=iris.feature_names,class_names=iris.target_names,filled=True,\n",
    "                      rounded=True)\n",
    "\n",
    "graph = pydot.graph_from_dot_data(dottt.getvalue())\n",
    "os.getcwd()\n",
    "os.environ[\"PATH\"] += os.pathsep + 'C:/Program Files (x86)/Graphviz2.38/bin/'\n",
    "graph[0].write_pdf(\"iris.pdf\")\n"
   ]
  },
  {
   "cell_type": "code",
   "execution_count": 98,
   "metadata": {},
   "outputs": [
    {
     "name": "stdout",
     "output_type": "stream",
     "text": [
      "[0 0 0 0 0 0 0 0 0 0 0 0 0 0 0 0 0 0 0 0 0 0 0 0 0 0 0 0 0 0 0 0 0 0 0 0 0\n",
      " 0 0 0 0 0 0 0 0 0 0 0 0 0 0 0 0 0 0 0 0 0 0 0 0 0 0 0 0 0 0 0 0 0 0 0 0 0\n",
      " 0 0 0 0 0 0 0 0 0 0 0 0 0 0 0 0 0 0 0 0 0 0 0 0 0 0 0 0 0 0 0 0 0 0 0 0 0\n",
      " 0 0 0 0 0 0 0 0 0 0 0 0 0 0 0 0 0 0 0 0 0 0 0 0 0 0 0 0 0 0 0 0 0 0]\n",
      "[2 0 0 2 2 0 1 1 2 0 2 0 1 0 2 2 1 1 0 0 1 1 0 0 1 1 2 1 0 2 2 1 0 0 2 2 2\n",
      " 0 2 2 1 1 2 1 0 1 2 2 2 2 2 2 0 2 2 0 1 2 2 0 1 1 1 2 0 0 1 0 1 1 1 0 2 0\n",
      " 2 1 1 1 0 2 0 0 2 0 2 1 1 0 1 0 2 1 2 0 0 2 1 1 2 0 2 1 0 2 2 0 0 2 1 0 1\n",
      " 2 0 2 2 1 1 0 0 1 1 2 1 1 2 2 2 1 1 0 1 0 2 1 1 0 0 1 0 1 2 0 0 1 0]\n",
      "0.32413793103448274\n"
     ]
    }
   ],
   "source": [
    "from sklearn import datasets\n",
    "iris = datasets.load_iris()\n",
    "\n",
    "x=iris.data\n",
    "y=iris.target\n",
    "\n",
    "from sklearn.cross_validation import train_test_split\n",
    "x_train,x_test,y_train,y_test = train_test_split(x,y,test_size = 0-5)\n",
    "\n",
    "\n",
    "from sklearn.neighbors import KNeighborsClassifier\n",
    "my_classifier = KNeighborsClassifier()\n",
    "\n",
    "my_classifier.fit(x_train,y_train)\n",
    "predictions = my_classifier.predict(x_test)\n",
    "print(predictions)\n",
    "from sklearn.metrics import accuracy_score\n",
    "print(y_test)\n",
    "\n",
    "print(accuracy_score(y_test,predictions))"
   ]
  },
  {
   "cell_type": "code",
   "execution_count": 99,
   "metadata": {},
   "outputs": [
    {
     "name": "stdout",
     "output_type": "stream",
     "text": [
      "[0 2 2 0 2 2 0 2 2 0 2 2 2 2 2 2 0 2 2 2 2 0 2 2 2 2 2 2 2 0 2 0 2 2 2 2 2\n",
      " 2 2 2 2 0 2 2 2 2 0 0 2 2 2 0 2 0 2 2 0 0 2 2 2 2 0 2 0 2 2 2 0 2 2 0 2 2\n",
      " 2 2 2 2 2 2 2 0 2 0 2 2 2 0 2 2 2 2 2 2 2 2 0 2 0 2 2 0 2 2 0 2 2 2 0 2 2\n",
      " 2 0 2 2 0 2 2 2 2 2 2 2 2 0 0 2 2 2 2 2 0 2 2 2 0 2 2 2 2 0 2 0 2 2]\n",
      "[0 1 1 0 1 2 0 0 2 0 2 2 1 2 2 2 0 1 2 0 1 0 1 0 1 2 1 1 1 0 2 0 1 0 2 2 2\n",
      " 1 1 1 2 0 2 2 1 2 0 0 2 1 2 0 1 0 1 2 0 0 1 1 2 1 0 1 0 0 1 2 1 1 0 0 1 1\n",
      " 1 0 0 0 0 2 1 0 2 2 2 1 1 0 2 1 2 2 0 2 0 2 2 0 0 1 2 0 1 2 0 1 2 2 2 1 2\n",
      " 0 2 1 1 0 1 0 2 1 1 1 2 1 0 0 0 1 0 2 1 0 1 2 2 2 1 2 0 0 0 1 0 0 1]\n",
      "0.4827586206896552\n"
     ]
    }
   ],
   "source": [
    "from sklearn import datasets\n",
    "iris = datasets.load_iris()\n",
    "\n",
    "x=iris.data\n",
    "y=iris.target\n",
    "\n",
    "from sklearn.cross_validation import train_test_split\n",
    "x_train,x_test,y_train,y_test = train_test_split(x,y,test_size = 0-5) #here test and training datasets were equally divided(0.5)\n",
    "\n",
    "from sklearn import tree\n",
    "my_classifier = tree.DecisionTreeClassifier()\n",
    "my_classifier.fit(x_train,y_train)\n",
    "predictions = my_classifier.predict(x_test)\n",
    "print(predictions)\n",
    "from sklearn.metrics import accuracy_score\n",
    "print(y_test)\n",
    "print(accuracy_score(y_test,predictions))"
   ]
  },
  {
   "cell_type": "code",
   "execution_count": 121,
   "metadata": {},
   "outputs": [
    {
     "ename": "NameError",
     "evalue": "name 'LabelBinarizer' is not defined",
     "output_type": "error",
     "traceback": [
      "\u001b[1;31m---------------------------------------------------------------------------\u001b[0m",
      "\u001b[1;31mNameError\u001b[0m                                 Traceback (most recent call last)",
      "\u001b[1;32m<ipython-input-121-122c1911117a>\u001b[0m in \u001b[0;36m<module>\u001b[1;34m()\u001b[0m\n\u001b[1;32m----> 1\u001b[1;33m \u001b[1;32mclass\u001b[0m \u001b[0mSupervisionFriendlyLabelBinarizer\u001b[0m\u001b[1;33m(\u001b[0m\u001b[0mLabelBinarizer\u001b[0m\u001b[1;33m)\u001b[0m\u001b[1;33m:\u001b[0m\u001b[1;33m\u001b[0m\u001b[0m\n\u001b[0m\u001b[0;32m      2\u001b[0m     \u001b[1;32mdef\u001b[0m \u001b[0mfit_transform\u001b[0m\u001b[1;33m(\u001b[0m\u001b[0mself\u001b[0m\u001b[1;33m,\u001b[0m \u001b[0mX\u001b[0m\u001b[1;33m,\u001b[0m \u001b[0my\u001b[0m\u001b[1;33m=\u001b[0m\u001b[1;32mNone\u001b[0m\u001b[1;33m)\u001b[0m\u001b[1;33m:\u001b[0m\u001b[1;33m\u001b[0m\u001b[0m\n\u001b[0;32m      3\u001b[0m         \u001b[1;32mreturn\u001b[0m \u001b[0msuper\u001b[0m\u001b[1;33m(\u001b[0m\u001b[0mSupervisionFriendlyLabelBinarizer\u001b[0m\u001b[1;33m,\u001b[0m \u001b[0mself\u001b[0m\u001b[1;33m)\u001b[0m\u001b[1;33m.\u001b[0m\u001b[0mfit_transform\u001b[0m\u001b[1;33m(\u001b[0m\u001b[0mX\u001b[0m\u001b[1;33m)\u001b[0m\u001b[1;33m\u001b[0m\u001b[0m\n\u001b[0;32m      4\u001b[0m \u001b[1;33m\u001b[0m\u001b[0m\n\u001b[0;32m      5\u001b[0m \u001b[1;32mimport\u001b[0m \u001b[0mrandom\u001b[0m\u001b[1;33m\u001b[0m\u001b[0m\n",
      "\u001b[1;31mNameError\u001b[0m: name 'LabelBinarizer' is not defined"
     ]
    }
   ],
   "source": [
    "#pip install scikit-learn==0.18.0# executed this command but still getting this error\n",
    "\n",
    "\n",
    "import random\n",
    "\n",
    "class Scrap():\n",
    "    def fit(self,x_train,y_train):\n",
    "        self.x_train = x_train\n",
    "        self.y_train = y_train\n",
    "    \n",
    "    def fit(self,x_train):\n",
    "        predictions = []\n",
    "        for row in x_test:\n",
    "            label = random.choice(self.y_train)\n",
    "            predictions.append(label)\n",
    "    \n",
    "        return predicitions\n",
    "\n",
    "    \n",
    "from sklearn import datasets\n",
    "iris = datasets.load_iris()\n",
    "\n",
    "x=iris.data\n",
    "y=iris.target\n",
    "\n",
    "from sklearn.cross_validation import train_test_split\n",
    "x_train,x_test,y_train,y_test = train_test_split(x,y,test_size = 0-5)\n",
    "\n",
    "#from sklearn import tree\n",
    "my_classifier = Scrap()\n",
    "\n",
    "my_classifier.fit(x_train,y_train)\n",
    "predictions = my_classifier.predict(x_test)\n",
    "print(predictions)\n",
    "from sklearn.metrics import accuracy_score\n",
    "print(y_test)\n",
    "print(accuracy_score(y_test,predictions))"
   ]
  },
  {
   "cell_type": "code",
   "execution_count": null,
   "metadata": {},
   "outputs": [],
   "source": []
  }
 ],
 "metadata": {
  "kernelspec": {
   "display_name": "Python 3",
   "language": "python",
   "name": "python3"
  },
  "language_info": {
   "codemirror_mode": {
    "name": "ipython",
    "version": 3
   },
   "file_extension": ".py",
   "mimetype": "text/x-python",
   "name": "python",
   "nbconvert_exporter": "python",
   "pygments_lexer": "ipython3",
   "version": "3.7.0"
  }
 },
 "nbformat": 4,
 "nbformat_minor": 2
}
