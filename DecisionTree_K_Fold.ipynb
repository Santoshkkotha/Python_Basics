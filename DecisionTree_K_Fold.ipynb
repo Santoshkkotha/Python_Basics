{
 "cells": [
  {
   "cell_type": "code",
   "execution_count": 44,
   "metadata": {},
   "outputs": [
    {
     "name": "stdout",
     "output_type": "stream",
     "text": [
      "<class 'pandas.core.frame.DataFrame'>\n",
      "RangeIndex: 891 entries, 0 to 890\n",
      "Data columns (total 12 columns):\n",
      "PassengerId    891 non-null int64\n",
      "Survived       891 non-null int64\n",
      "Pclass         891 non-null int64\n",
      "Name           891 non-null object\n",
      "Sex            891 non-null object\n",
      "Age            714 non-null float64\n",
      "SibSp          891 non-null int64\n",
      "Parch          891 non-null int64\n",
      "Ticket         891 non-null object\n",
      "Fare           891 non-null float64\n",
      "Cabin          204 non-null object\n",
      "Embarked       889 non-null object\n",
      "dtypes: float64(2), int64(5), object(5)\n",
      "memory usage: 83.6+ KB\n"
     ]
    }
   ],
   "source": [
    "import pandas,io,pydot,os\n",
    "import pandas as pd\n",
    "from sklearn import tree\n",
    "os.getcwd()\n",
    "t_train = pd.read_csv('C:\\\\Users\\\\Santosh\\\\Downloads\\\\train.csv')\n",
    "t_train.info()  # info gives column details and whether it contains nullable or non nullable values"
   ]
  },
  {
   "cell_type": "code",
   "execution_count": 11,
   "metadata": {},
   "outputs": [
    {
     "data": {
      "text/plain": [
       "(891, 12)"
      ]
     },
     "execution_count": 11,
     "metadata": {},
     "output_type": "execute_result"
    }
   ],
   "source": [
    "t_train.shape # shape gives rows and column details"
   ]
  },
  {
   "cell_type": "code",
   "execution_count": 12,
   "metadata": {},
   "outputs": [
    {
     "data": {
      "text/html": [
       "<div>\n",
       "<style scoped>\n",
       "    .dataframe tbody tr th:only-of-type {\n",
       "        vertical-align: middle;\n",
       "    }\n",
       "\n",
       "    .dataframe tbody tr th {\n",
       "        vertical-align: top;\n",
       "    }\n",
       "\n",
       "    .dataframe thead th {\n",
       "        text-align: right;\n",
       "    }\n",
       "</style>\n",
       "<table border=\"1\" class=\"dataframe\">\n",
       "  <thead>\n",
       "    <tr style=\"text-align: right;\">\n",
       "      <th></th>\n",
       "      <th>PassengerId</th>\n",
       "      <th>Survived</th>\n",
       "      <th>Pclass</th>\n",
       "      <th>Age</th>\n",
       "      <th>SibSp</th>\n",
       "      <th>Parch</th>\n",
       "      <th>Fare</th>\n",
       "    </tr>\n",
       "  </thead>\n",
       "  <tbody>\n",
       "    <tr>\n",
       "      <th>count</th>\n",
       "      <td>891.000000</td>\n",
       "      <td>891.000000</td>\n",
       "      <td>891.000000</td>\n",
       "      <td>714.000000</td>\n",
       "      <td>891.000000</td>\n",
       "      <td>891.000000</td>\n",
       "      <td>891.000000</td>\n",
       "    </tr>\n",
       "    <tr>\n",
       "      <th>mean</th>\n",
       "      <td>446.000000</td>\n",
       "      <td>0.383838</td>\n",
       "      <td>2.308642</td>\n",
       "      <td>29.699118</td>\n",
       "      <td>0.523008</td>\n",
       "      <td>0.381594</td>\n",
       "      <td>32.204208</td>\n",
       "    </tr>\n",
       "    <tr>\n",
       "      <th>std</th>\n",
       "      <td>257.353842</td>\n",
       "      <td>0.486592</td>\n",
       "      <td>0.836071</td>\n",
       "      <td>14.526497</td>\n",
       "      <td>1.102743</td>\n",
       "      <td>0.806057</td>\n",
       "      <td>49.693429</td>\n",
       "    </tr>\n",
       "    <tr>\n",
       "      <th>min</th>\n",
       "      <td>1.000000</td>\n",
       "      <td>0.000000</td>\n",
       "      <td>1.000000</td>\n",
       "      <td>0.420000</td>\n",
       "      <td>0.000000</td>\n",
       "      <td>0.000000</td>\n",
       "      <td>0.000000</td>\n",
       "    </tr>\n",
       "    <tr>\n",
       "      <th>25%</th>\n",
       "      <td>223.500000</td>\n",
       "      <td>0.000000</td>\n",
       "      <td>2.000000</td>\n",
       "      <td>20.125000</td>\n",
       "      <td>0.000000</td>\n",
       "      <td>0.000000</td>\n",
       "      <td>7.910400</td>\n",
       "    </tr>\n",
       "    <tr>\n",
       "      <th>50%</th>\n",
       "      <td>446.000000</td>\n",
       "      <td>0.000000</td>\n",
       "      <td>3.000000</td>\n",
       "      <td>28.000000</td>\n",
       "      <td>0.000000</td>\n",
       "      <td>0.000000</td>\n",
       "      <td>14.454200</td>\n",
       "    </tr>\n",
       "    <tr>\n",
       "      <th>75%</th>\n",
       "      <td>668.500000</td>\n",
       "      <td>1.000000</td>\n",
       "      <td>3.000000</td>\n",
       "      <td>38.000000</td>\n",
       "      <td>1.000000</td>\n",
       "      <td>0.000000</td>\n",
       "      <td>31.000000</td>\n",
       "    </tr>\n",
       "    <tr>\n",
       "      <th>max</th>\n",
       "      <td>891.000000</td>\n",
       "      <td>1.000000</td>\n",
       "      <td>3.000000</td>\n",
       "      <td>80.000000</td>\n",
       "      <td>8.000000</td>\n",
       "      <td>6.000000</td>\n",
       "      <td>512.329200</td>\n",
       "    </tr>\n",
       "  </tbody>\n",
       "</table>\n",
       "</div>"
      ],
      "text/plain": [
       "       PassengerId    Survived      Pclass         Age       SibSp  \\\n",
       "count   891.000000  891.000000  891.000000  714.000000  891.000000   \n",
       "mean    446.000000    0.383838    2.308642   29.699118    0.523008   \n",
       "std     257.353842    0.486592    0.836071   14.526497    1.102743   \n",
       "min       1.000000    0.000000    1.000000    0.420000    0.000000   \n",
       "25%     223.500000    0.000000    2.000000   20.125000    0.000000   \n",
       "50%     446.000000    0.000000    3.000000   28.000000    0.000000   \n",
       "75%     668.500000    1.000000    3.000000   38.000000    1.000000   \n",
       "max     891.000000    1.000000    3.000000   80.000000    8.000000   \n",
       "\n",
       "            Parch        Fare  \n",
       "count  891.000000  891.000000  \n",
       "mean     0.381594   32.204208  \n",
       "std      0.806057   49.693429  \n",
       "min      0.000000    0.000000  \n",
       "25%      0.000000    7.910400  \n",
       "50%      0.000000   14.454200  \n",
       "75%      0.000000   31.000000  \n",
       "max      6.000000  512.329200  "
      ]
     },
     "execution_count": 12,
     "metadata": {},
     "output_type": "execute_result"
    }
   ],
   "source": [
    "t_train.describe() # describe gives min max mean count... etc."
   ]
  },
  {
   "cell_type": "code",
   "execution_count": 21,
   "metadata": {},
   "outputs": [
    {
     "data": {
      "text/plain": [
       "DecisionTreeClassifier(class_weight=None, criterion='gini', max_depth=None,\n",
       "            max_features=None, max_leaf_nodes=None,\n",
       "            min_impurity_decrease=0.0, min_impurity_split=None,\n",
       "            min_samples_leaf=1, min_samples_split=2,\n",
       "            min_weight_fraction_leaf=0.0, presort=False, random_state=None,\n",
       "            splitter='best')"
      ]
     },
     "execution_count": 21,
     "metadata": {},
     "output_type": "execute_result"
    }
   ],
   "source": [
    "x_t1 = t_train[['Pclass','SibSp','Parch']]\n",
    "y_t1 = t_train['Survived']\n",
    "dt = tree.DecisionTreeClassifier() # here we have not given any criterion, so it has taken gini as criterion by default.\n",
    "dt.fit(x_t1,y_t1) #fit model gives the best possble tree"
   ]
  },
  {
   "cell_type": "code",
   "execution_count": 25,
   "metadata": {},
   "outputs": [],
   "source": [
    "t_test = pd.read_csv(\"C:\\\\Users\\\\Santosh\\\\Downloads\\\\test.csv\")\n",
    "X_test = t_test[['Pclass', 'SibSp', 'Parch']]\n",
    "#Use .predict method on Test data using the model which we built\n",
    "\n",
    "t_test['Survived'] = dt.predict(X_test)  \n",
    "os.getcwd() #To get current working directory\n",
    "t_test.to_csv(\"submission_Index_False.csv\", columns=['PassengerId','Survived'] , index = False)\n"
   ]
  },
  {
   "cell_type": "code",
   "execution_count": 30,
   "metadata": {},
   "outputs": [
    {
     "data": {
      "text/plain": [
       "DecisionTreeClassifier(class_weight=None, criterion='entropy', max_depth=None,\n",
       "            max_features=None, max_leaf_nodes=None,\n",
       "            min_impurity_decrease=0.0, min_impurity_split=None,\n",
       "            min_samples_leaf=1, min_samples_split=2,\n",
       "            min_weight_fraction_leaf=0.0, presort=False, random_state=None,\n",
       "            splitter='best')"
      ]
     },
     "execution_count": 30,
     "metadata": {},
     "output_type": "execute_result"
    }
   ],
   "source": [
    "x_t2 = t_train[['Pclass','SibSp','Parch']]\n",
    "y_t2 = t_train['Survived']\n",
    "dt = tree.DecisionTreeClassifier(criterion='entropy') # here we have given entropy as criterion\n",
    "dt.fit(x_t1,y_t1)"
   ]
  },
  {
   "cell_type": "code",
   "execution_count": 45,
   "metadata": {},
   "outputs": [
    {
     "name": "stdout",
     "output_type": "stream",
     "text": [
      "<class 'pandas.core.frame.DataFrame'>\n",
      "RangeIndex: 891 entries, 0 to 890\n",
      "Data columns (total 17 columns):\n",
      "PassengerId    891 non-null int64\n",
      "Survived       891 non-null int64\n",
      "Name           891 non-null object\n",
      "Age            714 non-null float64\n",
      "SibSp          891 non-null int64\n",
      "Parch          891 non-null int64\n",
      "Ticket         891 non-null object\n",
      "Fare           891 non-null float64\n",
      "Cabin          204 non-null object\n",
      "Pclass_1       891 non-null uint8\n",
      "Pclass_2       891 non-null uint8\n",
      "Pclass_3       891 non-null uint8\n",
      "Sex_female     891 non-null uint8\n",
      "Sex_male       891 non-null uint8\n",
      "Embarked_C     891 non-null uint8\n",
      "Embarked_Q     891 non-null uint8\n",
      "Embarked_S     891 non-null uint8\n",
      "dtypes: float64(2), int64(4), object(3), uint8(8)\n",
      "memory usage: 69.7+ KB\n"
     ]
    }
   ],
   "source": [
    "#Apply one hot encoding\n",
    "t_train = pd.get_dummies(t_train, columns=['Pclass', 'Sex', 'Embarked'])\n",
    "t_train.shape\n",
    "t_train.info()\n",
    "x_t2 = t_train.drop(['PassengerId','Age','Cabin','Ticket', 'Name','Survived'], 1)\n",
    "y_t2 = t_train['Survived']"
   ]
  },
  {
   "cell_type": "code",
   "execution_count": 58,
   "metadata": {},
   "outputs": [
    {
     "name": "stdout",
     "output_type": "stream",
     "text": [
      "[0.77777778 0.72222222 0.75280899 0.84269663 0.85393258 0.79775281\n",
      " 0.82022472 0.84269663 0.84269663 0.82954545]\n",
      "0.80823544433095\n"
     ]
    }
   ],
   "source": [
    "#Section 1A\n",
    "from sklearn import model_selection\n",
    "dt1 = tree.DecisionTreeClassifier()\n",
    "dt1.fit(x_t2,y_t2)\n",
    "#Apply K-fold technicque and find out the Cross Validation(CV) score.\n",
    "cv_scores1 = model_selection.cross_val_score(dt1, x_t2, y_t2, cv=10)\n",
    "print(cv_scores1) #Return type is a [List] of score\n",
    "print(cv_scores1.mean()) #Find out the mean of CV scores"
   ]
  },
  {
   "cell_type": "code",
   "execution_count": 59,
   "metadata": {},
   "outputs": [
    {
     "name": "stdout",
     "output_type": "stream",
     "text": [
      "0.9248035914702581\n"
     ]
    }
   ],
   "source": [
    "print(dt1.score(x_t2,y_t2))"
   ]
  },
  {
   "cell_type": "code",
   "execution_count": 64,
   "metadata": {},
   "outputs": [
    {
     "name": "stdout",
     "output_type": "stream",
     "text": [
      "[0.71111111 0.74444444 0.75280899 0.83146067 0.83146067 0.79775281\n",
      " 0.82022472 0.75280899 0.83146067 0.77272727]\n",
      "0.7846260356372715\n"
     ]
    }
   ],
   "source": [
    "#Section 2A\n",
    "#tune model manually by passing differnt values for decision tree arguments\n",
    "dt2 = tree.DecisionTreeClassifier(max_depth=4) #Here we passed max-depth as argument to the tree\n",
    "dt2.fit(x_t2,y_t2)\n",
    "cv_scores2 = model_selection.cross_val_score(dt2, x_t2, y_t2, cv=10)\n",
    "print(cv_scores2) #Return type is a [List] of scores\n",
    "print(cv_scores2.mean())"
   ]
  },
  {
   "cell_type": "code",
   "execution_count": 65,
   "metadata": {},
   "outputs": [
    {
     "name": "stdout",
     "output_type": "stream",
     "text": [
      "0.8181818181818182\n"
     ]
    }
   ],
   "source": [
    "print(dt2.score(x_t2,y_t2))"
   ]
  },
  {
   "cell_type": "code",
   "execution_count": 93,
   "metadata": {},
   "outputs": [
    {
     "name": "stdout",
     "output_type": "stream",
     "text": [
      "{'max_depth': [5], 'min_samples_split': [2, 4], 'criterion': ['gini', 'entropy']}\n",
      "{'mean_fit_time': array([0.        , 0.        , 0.01038806, 0.        ]), 'std_fit_time': array([0.        , 0.        , 0.00734547, 0.        ]), 'mean_score_time': array([0.00521954, 0.        , 0.        , 0.        ]), 'std_score_time': array([0.00738154, 0.        , 0.        , 0.        ]), 'param_criterion': masked_array(data=['gini', 'gini', 'entropy', 'entropy'],\n",
      "             mask=[False, False, False, False],\n",
      "       fill_value='?',\n",
      "            dtype=object), 'param_max_depth': masked_array(data=[5, 5, 5, 5],\n",
      "             mask=[False, False, False, False],\n",
      "       fill_value='?',\n",
      "            dtype=object), 'param_min_samples_split': masked_array(data=[2, 4, 2, 4],\n",
      "             mask=[False, False, False, False],\n",
      "       fill_value='?',\n",
      "            dtype=object), 'params': [{'criterion': 'gini', 'max_depth': 5, 'min_samples_split': 2}, {'criterion': 'gini', 'max_depth': 5, 'min_samples_split': 4}, {'criterion': 'entropy', 'max_depth': 5, 'min_samples_split': 2}, {'criterion': 'entropy', 'max_depth': 5, 'min_samples_split': 4}], 'split0_test_score': array([0.77441077, 0.77441077, 0.78114478, 0.78114478]), 'split1_test_score': array([0.7979798 , 0.7979798 , 0.81144781, 0.81144781]), 'split2_test_score': array([0.78451178, 0.78451178, 0.78114478, 0.78114478]), 'mean_test_score': array([0.78563412, 0.78563412, 0.79124579, 0.79124579]), 'std_test_score': array([0.00965469, 0.00965469, 0.01428499, 0.01428499]), 'rank_test_score': array([3, 3, 1, 1]), 'split0_train_score': array([0.85521886, 0.85521886, 0.85521886, 0.85521886]), 'split1_train_score': array([0.83333333, 0.83333333, 0.82996633, 0.82996633]), 'split2_train_score': array([0.83838384, 0.83838384, 0.83501684, 0.83501684]), 'mean_train_score': array([0.84231201, 0.84231201, 0.84006734, 0.84006734]), 'std_train_score': array([0.00935653, 0.00935653, 0.01091034, 0.01091034])}\n"
     ]
    }
   ],
   "source": [
    "#Automate model tuning process. Use Grid search method\n",
    "dt3 = tree.DecisionTreeClassifier()\n",
    "param_grid = {'max_depth':[5], 'min_samples_split':[2,4], 'criterion':['gini','entropy']} \n",
    "print(param_grid)\n",
    "#max_depth means: Max deapth of the tree to child nodes\n",
    "#min_samples_split means: If you notice the tree nodes, there is some thing called sample in each node. This is what it is referring to min sample split\n",
    "dt3_grid = model_selection.GridSearchCV(dt3, param_grid, cv=3, n_jobs=-1)\n",
    "dt3_grid.fit(x_t2, y_t2)\n",
    "#print(dt3_grid.grid_scores_) #You may get DeprecationWarning\n",
    "print(dt3_grid.cv_results_) #New version\n",
    "#final_model = dt3_grid.best_estimator_ #This is the estimator of max_deapth and min_sample_split combination\n",
    "#print(dt3_grid.best_score_)\n",
    "#.score gives the score on full train data\n",
    "#print(dt3_grid.score(x_t2, y_t2))\n"
   ]
  },
  {
   "cell_type": "code",
   "execution_count": null,
   "metadata": {},
   "outputs": [],
   "source": []
  }
 ],
 "metadata": {
  "kernelspec": {
   "display_name": "Python 3",
   "language": "python",
   "name": "python3"
  },
  "language_info": {
   "codemirror_mode": {
    "name": "ipython",
    "version": 3
   },
   "file_extension": ".py",
   "mimetype": "text/x-python",
   "name": "python",
   "nbconvert_exporter": "python",
   "pygments_lexer": "ipython3",
   "version": "3.7.0"
  }
 },
 "nbformat": 4,
 "nbformat_minor": 2
}
